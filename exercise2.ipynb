{
 "cells": [
  {
   "cell_type": "markdown",
   "metadata": {},
   "source": [
    "# Exercise 2: Generate content and summarize Small PDF"
   ]
  },
  {
   "cell_type": "markdown",
   "metadata": {
    "id": "erYnwuLMz8nf"
   },
   "source": [
    "Installing Groq"
   ]
  },
  {
   "cell_type": "code",
   "execution_count": 1,
   "metadata": {
    "colab": {
     "base_uri": "https://localhost:8080/"
    },
    "id": "iHwvo6Kgs-WW",
    "outputId": "4b1926dd-23bc-4602-bbc4-63344e35bd58"
   },
   "outputs": [
    {
     "name": "stdout",
     "output_type": "stream",
     "text": [
      "Collecting groq\n",
      "  Downloading groq-0.4.2-py3-none-any.whl (65 kB)\n",
      "\u001b[?25l     \u001b[90m━━━━━━━━━━━━━━━━━━━━━━━━━━━━━━━━━━━━━━━━\u001b[0m \u001b[32m0.0/65.7 kB\u001b[0m \u001b[31m?\u001b[0m eta \u001b[36m-:--:--\u001b[0m\r\u001b[2K     \u001b[91m━━━━━━━━━━━━━━━━━━━━━━━━\u001b[0m\u001b[91m╸\u001b[0m\u001b[90m━━━━━━━━━━━━━━━\u001b[0m \u001b[32m41.0/65.7 kB\u001b[0m \u001b[31m1.1 MB/s\u001b[0m eta \u001b[36m0:00:01\u001b[0m\r\u001b[2K     \u001b[90m━━━━━━━━━━━━━━━━━━━━━━━━━━━━━━━━━━━━━━━━\u001b[0m \u001b[32m65.7/65.7 kB\u001b[0m \u001b[31m1.2 MB/s\u001b[0m eta \u001b[36m0:00:00\u001b[0m\n",
      "\u001b[?25hRequirement already satisfied: anyio<5,>=3.5.0 in /usr/local/lib/python3.10/dist-packages (from groq) (3.7.1)\n",
      "Requirement already satisfied: distro<2,>=1.7.0 in /usr/lib/python3/dist-packages (from groq) (1.7.0)\n",
      "Collecting httpx<1,>=0.23.0 (from groq)\n",
      "  Downloading httpx-0.27.0-py3-none-any.whl (75 kB)\n",
      "\u001b[2K     \u001b[90m━━━━━━━━━━━━━━━━━━━━━━━━━━━━━━━━━━━━━━━━\u001b[0m \u001b[32m75.6/75.6 kB\u001b[0m \u001b[31m4.0 MB/s\u001b[0m eta \u001b[36m0:00:00\u001b[0m\n",
      "\u001b[?25hRequirement already satisfied: pydantic<3,>=1.9.0 in /usr/local/lib/python3.10/dist-packages (from groq) (2.6.3)\n",
      "Requirement already satisfied: sniffio in /usr/local/lib/python3.10/dist-packages (from groq) (1.3.1)\n",
      "Requirement already satisfied: typing-extensions<5,>=4.7 in /usr/local/lib/python3.10/dist-packages (from groq) (4.10.0)\n",
      "Requirement already satisfied: idna>=2.8 in /usr/local/lib/python3.10/dist-packages (from anyio<5,>=3.5.0->groq) (3.6)\n",
      "Requirement already satisfied: exceptiongroup in /usr/local/lib/python3.10/dist-packages (from anyio<5,>=3.5.0->groq) (1.2.0)\n",
      "Requirement already satisfied: certifi in /usr/local/lib/python3.10/dist-packages (from httpx<1,>=0.23.0->groq) (2024.2.2)\n",
      "Collecting httpcore==1.* (from httpx<1,>=0.23.0->groq)\n",
      "  Downloading httpcore-1.0.4-py3-none-any.whl (77 kB)\n",
      "\u001b[2K     \u001b[90m━━━━━━━━━━━━━━━━━━━━━━━━━━━━━━━━━━━━━━━━\u001b[0m \u001b[32m77.8/77.8 kB\u001b[0m \u001b[31m7.5 MB/s\u001b[0m eta \u001b[36m0:00:00\u001b[0m\n",
      "\u001b[?25hCollecting h11<0.15,>=0.13 (from httpcore==1.*->httpx<1,>=0.23.0->groq)\n",
      "  Downloading h11-0.14.0-py3-none-any.whl (58 kB)\n",
      "\u001b[2K     \u001b[90m━━━━━━━━━━━━━━━━━━━━━━━━━━━━━━━━━━━━━━━━\u001b[0m \u001b[32m58.3/58.3 kB\u001b[0m \u001b[31m7.3 MB/s\u001b[0m eta \u001b[36m0:00:00\u001b[0m\n",
      "\u001b[?25hRequirement already satisfied: annotated-types>=0.4.0 in /usr/local/lib/python3.10/dist-packages (from pydantic<3,>=1.9.0->groq) (0.6.0)\n",
      "Requirement already satisfied: pydantic-core==2.16.3 in /usr/local/lib/python3.10/dist-packages (from pydantic<3,>=1.9.0->groq) (2.16.3)\n",
      "Installing collected packages: h11, httpcore, httpx, groq\n",
      "Successfully installed groq-0.4.2 h11-0.14.0 httpcore-1.0.4 httpx-0.27.0\n"
     ]
    }
   ],
   "source": [
    "!pip install groq"
   ]
  },
  {
   "cell_type": "markdown",
   "metadata": {
    "id": "h7e0QNFg0hYw"
   },
   "source": [
    "# **Starting the Assignment**"
   ]
  },
  {
   "cell_type": "markdown",
   "metadata": {
    "id": "A4Hf5sq2zt7o"
   },
   "source": [
    "## **Content Generation**"
   ]
  },
  {
   "cell_type": "code",
   "execution_count": null,
   "metadata": {
    "colab": {
     "base_uri": "https://localhost:8080/"
    },
    "id": "xNqHzgjjtUCg",
    "outputId": "fda0b881-3824-4ee3-efe4-2ac943adb067"
   },
   "outputs": [
    {
     "name": "stdout",
     "output_type": "stream",
     "text": [
      "Sure, I can help you create a bot that acts as a travel planner. Below is a 4-day travel itinerary for an adventure enthusiast:\n",
      "\n",
      "Day 1:\n",
      "\n",
      "* Skydiving in Interlaken, Switzerland: Begin your adventure by jumping out of a plane and experiencing the rush of skydiving over the picturesque Swiss Alps.\n",
      "* Canyoning in Interlaken: After skydiving, head to Interlaken's beautiful canyons for an exhilarating experience. Hike, climb, and rappel through the stunning scenery.\n",
      "* Overnight in Interlaken: Spend the night in Interlaken, a charming town surrounded by mountains and lakes. Enjoy local cuisine and relax in a cozy chalet.\n",
      "\n",
      "Day 2:\n",
      "\n",
      "* White-water rafting in the Swiss Alps: Start your day with an adrenaline-pumping white-water rafting experience in the Swiss Alps. Take in the breathtaking scenery while navigating through rapids.\n",
      "* Paragliding in Chamonix, France: Cross the border into France and experience paragliding in Chamonix. Soar through the sky and take in the stunning views of Mont Blanc.\n",
      "* Overnight in Chamonix: Spend the night in Chamonix, a popular destination for outdoor enthusiasts. Explore the charming town and enjoy local cuisine.\n",
      "\n",
      "Day 3:\n",
      "\n",
      "* Hiking in the Swiss National Park, Switzerland: Start your day with a hike in the beautiful Swiss National Park. Explore the untouched wilderness and spot rare wildlife.\n",
      "* Rock climbing in the Dolomites, Italy: Head to the Dolomites in Italy for an afternoon of rock climbing. Scale vertical cliffs and take in the breathtaking views.\n",
      "* Overnight in the Dolomites: Spend the night in a cozy mountain lodge in the Dolomites. Enjoy local cuisine and relax in a peaceful atmosphere.\n",
      "\n",
      "Day 4:\n",
      "\n",
      "* Caving in the Julian Alps, Slovenia: Head to Slovenia and explore the stunning caves in the Julian Alps. Hike through mountains and swim through underground lakes.\n",
      "* Rafting in the Soča Valley, Slovenia: End your adventure with a white-water rafting experience in the beautiful Soča Valley. Take in the stunning scenery and enjoy the adrenaline rush.\n",
      "* Overnight in Bled, Slovenia: Spend the night in the charming town of Bled, known for its picturesque lake and medieval castle. Enjoy local cuisine and relax in a cozy hotel.\n",
      "\n",
      "This itinerary offers a mix of outdoor activities, adrenaline-pumping experiences, and unique destinations that an adventure enthusiast will surely love. Enjoy your trip!"
     ]
    }
   ],
   "source": [
    "from groq import Groq\n",
    "import os\n",
    "\n",
    "# Set the Groq API key from environment variable\n",
    "\n",
    "client = Groq()\n",
    "completion1 = client.chat.completions.create(\n",
    "    model=\"llama2-70b-4096\",\n",
    "    messages=[\n",
    "        {\n",
    "            \"role\": \"user\",\n",
    "            \"content\": \"Create a bot that acts as a travel planner which generates a 4-day travel itinerary for an adventure enthusiast. The itinerary should include outdoor activities, adrenaline-pumping experiences, and unique destinations.\"\n",
    "        }\n",
    "    ],\n",
    "    temperature=0.5,\n",
    "    max_tokens=1024,\n",
    "    top_p=1,\n",
    "    stream=True,\n",
    "    stop=None,\n",
    ")\n",
    "\n",
    "for chunk in completion:\n",
    "    print(chunk.choices[0].delta.content or \"\", end=\"\")\n"
   ]
  },
  {
   "cell_type": "code",
   "execution_count": 9,
   "metadata": {
    "colab": {
     "base_uri": "https://localhost:8080/"
    },
    "id": "XXgH-qm_005q",
    "outputId": "c22ae5dc-33db-4cfb-be09-5a71b09ae0f3"
   },
   "outputs": [
    {
     "name": "stdout",
     "output_type": "stream",
     "text": [
      "Sure, I'd be happy to help you create a bot that acts as a travel planner! Here's a sample itinerary for a 4-day trip to explore the culture of a city:\n",
      "\n",
      "Day 1:\n",
      "\n",
      "* Morning: Start the day by visiting a local museum to learn about the history and culture of the city.\n",
      "* Afternoon: Head to a historic neighborhood or district to explore the architecture and get a feel for the local vibe.\n",
      "* Evening: End the day by experiencing the local cuisine at a traditional restaurant or food market.\n",
      "\n",
      "Day 2:\n",
      "\n",
      "* Morning: Visit a local market or bazaar to immerse yourself in the sights, sounds, and smells of the local culture.\n",
      "* Afternoon: Head to a nearby historical landmark or monument to learn about the city's past and significance.\n",
      "* Evening: Attend a local festival or event to experience the city's cultural scene.\n",
      "\n",
      "Day 3:\n",
      "\n",
      "* Morning: Take a guided tour of the city's street art scene to learn about the local artists and their work.\n",
      "* Afternoon: Visit a local park or garden to experience the city's natural beauty and relax.\n",
      "* Evening: End the day by attending a local music or dance performance.\n",
      "\n",
      "Day 4:\n",
      "\n",
      "* Morning: Visit a local temple, church, or mosque to learn about the city's religious history and culture.\n",
      "* Afternoon: Take a cooking class to learn how to prepare traditional dishes from the city.\n",
      "* Evening: End the day by exploring the city's nightlife and enjoying a drink at a local bar or lounge.\n",
      "\n",
      "Of course, this itinerary can be customized based on the user's preferences and interests, but this should give you a good starting point for building your travel planning bot!\n",
      "\n",
      "\n",
      "\n",
      "\n",
      "\n",
      "\n"
     ]
    }
   ],
   "source": [
    "completion2 = client.chat.completions.create(\n",
    "    model=\"llama2-70b-4096\",\n",
    "    messages=[\n",
    "        {\n",
    "            \"role\": \"user\",\n",
    "            \"content\": \"Create a bot that acts as a travel planner which generates a 4-day travel itinerary for a Cultural Explorer. The itinerary should include Architecture, history, etc.,\"\n",
    "        }\n",
    "    ],\n",
    "    temperature=0.5,\n",
    "    max_tokens=1024,\n",
    "    top_p=1,\n",
    "    stream=True,\n",
    "    stop=None,\n",
    ")\n",
    "\n",
    "for chunk in completion2:\n",
    "    print(chunk.choices[0].delta.content or \"\", end=\"\")"
   ]
  },
  {
   "cell_type": "code",
   "execution_count": 10,
   "metadata": {
    "colab": {
     "base_uri": "https://localhost:8080/"
    },
    "id": "KyD7nFtO09i6",
    "outputId": "f56d9706-a4b8-4e25-b466-d920f1ed67d2"
   },
   "outputs": [
    {
     "name": "stdout",
     "output_type": "stream",
     "text": [
      "Sure, I can help you create a bot that acts as a travel planner for a Relaxation Seeker. Here's a sample itinerary for a 4-day trip:\n",
      "\n",
      "Day 1:\n",
      "\n",
      "* Morning: Arrive at the destination, check-in at a beachside resort, and spend some time relaxing on the beach.\n",
      "* Afternoon: Take a leisurely walk along the beach, and then indulge in a rejuvenating spa treatment at the resort's spa.\n",
      "* Evening: Enjoy a sunset dinner at a beachside restaurant, savoring local seafood delicacies and sipping refreshing cocktails.\n",
      "\n",
      "Day 2:\n",
      "\n",
      "* Morning: Embark on a peaceful boat ride through the mangroves, spotting birds and enjoying the serene surroundings.\n",
      "* Afternoon: Head to a nearby island for some snorkeling or scuba diving, exploring the underwater world and admiring the colorful marine life.\n",
      "* Evening: Return to the resort and unwind with a soothing massage, followed by a relaxing evening by the poolside, gazing at the stars.\n",
      "\n",
      "Day 3:\n",
      "\n",
      "* Morning: Visit a nearby national park, where you can go on a tranquil hike through the lush green forests, enjoying the sights and sounds of nature.\n",
      "* Afternoon: Take a break and enjoy a picnic lunch amidst the scenic surroundings.\n",
      "* Evening: Return to the resort for a relaxing evening of reading, listening to calming music, or simply enjoying the peaceful ambiance.\n",
      "\n",
      "Day 4:\n",
      "\n",
      "* Morning: Spend the morning at leisure, perhaps taking a yoga class or practicing meditation.\n",
      "* Afternoon: Take a leisurely stroll around the nearby town, exploring local artisan shops and galleries.\n",
      "* Evening: Enjoy a farewell dinner at a local restaurant, relishing the regional cuisine and bidding farewell to the beautiful destination.\n",
      "\n",
      "This itinerary can be adjusted based on the individual's preferences and interests, but it should provide a good starting point for a Relaxation Seeker. The key is to focus on leisure activities that promote relaxation and rejuvenation, while also taking advantage of the beautiful surroundings."
     ]
    }
   ],
   "source": [
    "completion3 = client.chat.completions.create(\n",
    "    model=\"llama2-70b-4096\",\n",
    "    messages=[\n",
    "        {\n",
    "            \"role\": \"user\",\n",
    "            \"content\": \"Create a bot that acts as a travel planner which generates a 4-day travel itinerary for a Relaxation Seeker. The itinerary should include serene location, leisure activities, etc.,\"\n",
    "        }\n",
    "    ],\n",
    "    temperature=0.5,\n",
    "    max_tokens=1024,\n",
    "    top_p=1,\n",
    "    stream=True,\n",
    "    stop=None,\n",
    ")\n",
    "\n",
    "for chunk in completion3:\n",
    "    print(chunk.choices[0].delta.content or \"\", end=\"\")"
   ]
  },
  {
   "cell_type": "markdown",
   "metadata": {
    "id": "t3tNWfUL1FxD"
   },
   "source": [
    "## **Summarization**"
   ]
  },
  {
   "cell_type": "code",
   "execution_count": 11,
   "metadata": {
    "colab": {
     "base_uri": "https://localhost:8080/"
    },
    "id": "WH8uEjWm1Ner",
    "outputId": "01e307c3-3a73-4614-fddf-f720f873d88b"
   },
   "outputs": [
    {
     "name": "stdout",
     "output_type": "stream",
     "text": [
      "Collecting PyPDF2\n",
      "  Downloading pypdf2-3.0.1-py3-none-any.whl (232 kB)\n",
      "\u001b[2K     \u001b[90m━━━━━━━━━━━━━━━━━━━━━━━━━━━━━━━━━━━━━━━━\u001b[0m \u001b[32m232.6/232.6 kB\u001b[0m \u001b[31m1.0 MB/s\u001b[0m eta \u001b[36m0:00:00\u001b[0m\n",
      "\u001b[?25hInstalling collected packages: PyPDF2\n",
      "Successfully installed PyPDF2-3.0.1\n"
     ]
    }
   ],
   "source": [
    "!pip install PyPDF2"
   ]
  },
  {
   "cell_type": "code",
   "execution_count": 29,
   "metadata": {
    "colab": {
     "base_uri": "https://localhost:8080/"
    },
    "id": "0fQ2gPbN2fsS",
    "outputId": "1dae2dcf-3fee-42b4-9acd-d38aaa3b9a9c"
   },
   "outputs": [
    {
     "name": "stdout",
     "output_type": "stream",
     "text": [
      "The Union Budget 2024-2025 speech by Finance Minister Nirmala Sitharaman highlights the Indian government's efforts towards inclusive development and growth. The government's approach to development is marked by a focus on empowering the poor, social justice, and addressing systemic inequalities. The budget speech outlines various initiatives and schemes aimed at improving the lives of the poor, women, youth, and farmers.\n",
      "\n",
      "Key points from the budget speech include:\n",
      "\n",
      "1. Inclusive development and growth: The government's approach to development is aimed at ensuring that the benefits of growth reach all sections of society, especially the poor, women, and marginalized communities.\n",
      "2. Social justice: The government is working towards social justice by ensuring that resources are distributed fairly and that everyone has access to opportunities.\n",
      "3. Empowering the poor: The government's efforts are aimed at empowering the poor, rather than just providing them with entitlements. This includes providing direct benefit transfers, credit assistance, and other support schemes.\n",
      "4. Welfare of farmers: The government is committed to supporting farmers through initiatives such as PM-KISAN, crop insurance, and electronic National Agriculture Market.\n",
      "5. Empowering youth: The government is investing in education and skill development to empower the youth and help them become self-sufficient. Initiatives such as PM SHRI, Skill India Mission, and PM Mudra Yojana are aimed at providing young people with the tools they need to succeed.\n",
      "6. Sports development: The government is also investing in sports development, with a focus on promoting excellence and encouraging young athletes to excel in their respective fields.\n",
      "\n",
      "Overall, the Union Budget 2024-2025 speech highlights the government's commitment to inclusive development and growth, with a focus on empowering the poor, social justice, and supporting farmers, youth, and sports development."
     ]
    }
   ],
   "source": [
    "import PyPDF2\n",
    "\n",
    "pdf_file_obj = open('large_text.pdf','rb')\n",
    "\n",
    "#create reader variable that will read the pdffileobj\n",
    "pdf_reader = PyPDF2.PdfReader(pdf_file_obj)\n",
    "page_num = len(pdf_reader.pages)\n",
    "content = \"\"\n",
    "for i in range(0, page_num):\n",
    "  content += pdf_reader.pages[i].extract_text()\n",
    "\n",
    "\n",
    "# Summarizing Entire PDF:\n",
    "\n",
    "summarize = client.chat.completions.create(\n",
    "    model=\"llama2-70b-4096\",\n",
    "    messages=[\n",
    "        {\n",
    "            \"role\": \"user\",\n",
    "            \"content\": f\"\"\"\n",
    "            You are a helpful Assistant. your task is to summerize the below content and provide keypoint.\n",
    "\n",
    "            content: {content}\n",
    "            \"\"\"\n",
    "        }\n",
    "    ],\n",
    "    temperature=0.5,\n",
    "    max_tokens=1024,\n",
    "    top_p=1,\n",
    "    stream=True,\n",
    "    stop=None,\n",
    ")\n",
    "\n",
    "for chunk in summarize:\n",
    "    print(chunk.choices[0].delta.content or \"\", end=\"\")\n"
   ]
  },
  {
   "cell_type": "markdown",
   "metadata": {
    "id": "FYOkIU6C65wp"
   },
   "source": [
    "## **QnA Bot**"
   ]
  },
  {
   "cell_type": "code",
   "execution_count": 31,
   "metadata": {
    "colab": {
     "base_uri": "https://localhost:8080/"
    },
    "id": "bwN0yMiC7F7a",
    "outputId": "ad19474b-867d-4c49-fcd6-989e67ce5dac"
   },
   "outputs": [
    {
     "name": "stdout",
     "output_type": "stream",
     "text": [
      "The Indian economy has undergone a profound positive transformation over the past decade. The current government, led by Prime Minister Narendra Modi, has implemented structural reforms and pro-people programs that have created more opportunities for employment and entrepreneurship, resulting in a new vigor in the economy. The government's focus on inclusivity, covering all strata of society and all regions of the country, has helped to ensure that the fruits of development reach a wider section of the population. As a result, the country has gained a new sense of purpose and hope, leading to a bigger mandate for the current government in its second term."
     ]
    }
   ],
   "source": [
    "small_text_content = '''\n",
    "Hon’ble Speaker,\n",
    "I present the Interim Budget for 2024-25.\n",
    "Introduction\n",
    "1. The Indian economy has witnessed profound positive\n",
    "transformation in the last ten years. The people of India are\n",
    "looking ahead to the future with hope and optimism.\n",
    "2. With the blessings of the people, when our Government\n",
    "under the visionary and dynamic leadership of Hon’ble Prime\n",
    "Minister Shri Narendra Modi assumed office in 2014, the country\n",
    "was facing enormous challenges. With ‘Sabka Saath, Sabka\n",
    "Vikas’ as its ‘mantra’, the Government overcame those\n",
    "challenges in right earnest. Structural reforms were undertaken.\n",
    "Pro-people programmes were formulated and implemented\n",
    "promptly. Conditions were created for more opportunities for\n",
    "employment and entrepreneurship. The economy got a new\n",
    "vigour. The fruits of development started reaching the people at\n",
    "scale. The country got a new sense of purpose and hope.\n",
    "Naturally, the people blessed the Government with a bigger\n",
    "mandate.\n",
    "2\n",
    "3. In the second term, our Government under the leadership\n",
    "of Hon’ble Prime Minister doubled down on its responsibilities to\n",
    "build a prosperous country with comprehensive development of\n",
    "all people and all regions. Our Government strengthened its\n",
    "‘mantra’ to ‘Sabka Saath, Sabka Vikas, and Sabka Vishwas’. Our\n",
    "development philosophy covered all elements of inclusivity,\n",
    "namely,\n",
    " social inclusivity through coverage of all strata of the\n",
    "society, and\n",
    " geographical inclusivity through development of all\n",
    "regions of the country.\n",
    "'''\n",
    "\n",
    "user_query = \"How has been indian economy over the past decade?\"\n",
    "prompt = f''' Answer the following user question based on the context provided.\n",
    "   User Query: {user_query}\n",
    "   Context: {small_text_content}\n",
    "   Answer:\n",
    "   '''\n",
    "\n",
    "qna_1 = client.chat.completions.create(\n",
    "    model=\"llama2-70b-4096\",\n",
    "    messages=[\n",
    "        {\n",
    "            \"role\": \"user\",\n",
    "            \"content\": prompt\n",
    "        }\n",
    "    ],\n",
    "    temperature=0.5,\n",
    "    max_tokens=1024,\n",
    "    top_p=1,\n",
    "    stream=True,\n",
    "    stop=None,\n",
    ")\n",
    "\n",
    "for chunk in qna_1:\n",
    "    print(chunk.choices[0].delta.content or \"\", end=\"\")"
   ]
  },
  {
   "cell_type": "code",
   "execution_count": 33,
   "metadata": {
    "colab": {
     "base_uri": "https://localhost:8080/"
    },
    "id": "J7zaS-4u733u",
    "outputId": "842700f2-f5d6-4887-9ed8-24886cee2b96"
   },
   "outputs": [
    {
     "name": "stdout",
     "output_type": "stream",
     "text": [
      "Sure, I can answer that question for you!\n",
      "\n",
      "The four major castes that the government should focus on, according to Nirmala Sitharaman, India's Minister of Finance, are:\n",
      "\n",
      "1. Garib (Poor)\n",
      "2. Mahilayen (Women)\n",
      "3. Yuva (Youth)\n",
      "4. Annadata (Farmer)\n",
      "\n",
      "These four castes are considered the most vulnerable and in need of government support to improve their lives and achieve socio-economic transformation. The government's focus on these castes is aimed at empowering them and addressing systemic inequalities that have plagued Indian society. By supporting these groups, the government hopes to drive the country forward and achieve inclusive growth and development."
     ]
    }
   ],
   "source": [
    "large_text_content = content\n",
    "user_query = \"What are the four major castes we need to focus? and Who is the speaker?\"\n",
    "prompt = f''' Answer the following user question based on the context provided.\n",
    "   User Query: {user_query}\n",
    "   Context: {large_text_content}\n",
    "   Answer:\n",
    "   '''\n",
    "\n",
    "qna_2 = client.chat.completions.create(\n",
    "    model=\"llama2-70b-4096\",\n",
    "    messages=[\n",
    "        {\n",
    "            \"role\": \"user\",\n",
    "            \"content\": prompt\n",
    "        }\n",
    "    ],\n",
    "    temperature=0.5,\n",
    "    max_tokens=1024,\n",
    "    top_p=1,\n",
    "    stream=True,\n",
    "    stop=None,\n",
    ")\n",
    "\n",
    "for chunk in qna_2:\n",
    "    print(chunk.choices[0].delta.content or \"\", end=\"\")"
   ]
  }
 ],
 "metadata": {
  "accelerator": "GPU",
  "colab": {
   "gpuType": "T4",
   "provenance": []
  },
  "kernelspec": {
   "display_name": "Python 3",
   "name": "python3"
  },
  "language_info": {
   "name": "python"
  }
 },
 "nbformat": 4,
 "nbformat_minor": 0
}
